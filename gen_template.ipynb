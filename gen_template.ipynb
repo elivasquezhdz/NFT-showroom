{
 "cells": [
  {
   "cell_type": "code",
   "execution_count": 8,
   "id": "5a0d9694",
   "metadata": {},
   "outputs": [],
   "source": [
    "import pandas as pd"
   ]
  },
  {
   "cell_type": "code",
   "execution_count": 9,
   "id": "79a36410",
   "metadata": {},
   "outputs": [],
   "source": [
    "df = pd.read_excel(\"nfts.xlsx\")"
   ]
  },
  {
   "cell_type": "code",
   "execution_count": 12,
   "id": "458df5da",
   "metadata": {},
   "outputs": [],
   "source": [
    "df = df.fillna(\"\")"
   ]
  },
  {
   "cell_type": "code",
   "execution_count": 13,
   "id": "1b5e39a0",
   "metadata": {},
   "outputs": [],
   "source": [
    "df1 = df.iloc[0:20].reset_index()"
   ]
  },
  {
   "cell_type": "code",
   "execution_count": 14,
   "id": "18c7a81b",
   "metadata": {},
   "outputs": [],
   "source": [
    "df2 = df.iloc[20:].reset_index()"
   ]
  },
  {
   "cell_type": "code",
   "execution_count": 15,
   "id": "bf0cead3",
   "metadata": {},
   "outputs": [
    {
     "data": {
      "text/plain": [
       "index                                                          2\n",
       "image_url      https://lh3.googleusercontent.com/nGE2cbKAZ-0a...\n",
       "qr                                                    NonoIm.png\n",
       "authorpic      https://lh3.googleusercontent.com/gRGBjubwc5qZ...\n",
       "title                                             No, no I'm....\n",
       "collection                               EMOTE by Camille Chiang\n",
       "Description                                    He kind of cares.\n",
       "Name: 2, dtype: object"
      ]
     },
     "execution_count": 15,
     "metadata": {},
     "output_type": "execute_result"
    }
   ],
   "source": [
    "df1.iloc[2]"
   ]
  },
  {
   "cell_type": "code",
   "execution_count": 16,
   "id": "d049cc0a",
   "metadata": {},
   "outputs": [],
   "source": [
    "template = open(\"templates/pre_template.html\").read()"
   ]
  },
  {
   "cell_type": "code",
   "execution_count": 17,
   "id": "3edeff6f",
   "metadata": {},
   "outputs": [],
   "source": [
    "with open(\"test_template.html\",\"w\",encoding=\"utf-8\") as f:\n",
    "    for index, row in df.iterrows():\n",
    "        image_url,qr,authorpic,title,collection,description =row['image_url'], row['qr'], row['authorpic'],\\\n",
    "                                     row['title'], row['collection'], row['Description']\n",
    "\n",
    "        f.write(template.format(image_url,qr,authorpic,title,collection,description))\n",
    "        f.write(\"\\n\")"
   ]
  },
  {
   "cell_type": "code",
   "execution_count": 18,
   "id": "45233baa",
   "metadata": {},
   "outputs": [],
   "source": [
    "with open(\"template1.html\",\"w\",encoding=\"utf-8\") as f:\n",
    "    for index, row in df1.iterrows():\n",
    "        image_url,qr,authorpic,title,collection,description =row['image_url'], row['qr'], row['authorpic'],\\\n",
    "                                     row['title'], row['collection'], row['Description']\n",
    "\n",
    "        f.write(template.format(image_url,qr,authorpic,title,collection,description))\n",
    "        f.write(\"\\n\")"
   ]
  },
  {
   "cell_type": "code",
   "execution_count": 19,
   "id": "f51e618d",
   "metadata": {},
   "outputs": [],
   "source": [
    "with open(\"template2.html\",\"w\",encoding=\"utf-8\") as f:\n",
    "    for index, row in df2.iterrows():\n",
    "        image_url,qr,authorpic,title,collection,description =row['image_url'], row['qr'], row['authorpic'],\\\n",
    "                                     row['title'], row['collection'], row['Description']\n",
    "\n",
    "        f.write(template.format(image_url,qr,authorpic,title,collection,description))\n",
    "        f.write(\"\\n\")"
   ]
  },
  {
   "cell_type": "code",
   "execution_count": null,
   "id": "68c8c2cb",
   "metadata": {},
   "outputs": [],
   "source": [
    "with open(\"template.html\",\"w\",encoding=\"utf-8\") as f:\n",
    "    for index, row in df.iterrows():\n",
    "        image_url,qr,authorpic,title,collection,description =row['image_url'], row['qr'], row['authorpic'],\\\n",
    "                                     row['title'], row['collection'], row['Description']\n",
    "\n",
    "        f.write(template.format(image_url,qr,authorpic,title,collection,description))\n",
    "        f.write(\"\\n\")"
   ]
  }
 ],
 "metadata": {
  "kernelspec": {
   "display_name": "Python 3 (ipykernel)",
   "language": "python",
   "name": "python3"
  },
  "language_info": {
   "codemirror_mode": {
    "name": "ipython",
    "version": 3
   },
   "file_extension": ".py",
   "mimetype": "text/x-python",
   "name": "python",
   "nbconvert_exporter": "python",
   "pygments_lexer": "ipython3",
   "version": "3.9.6"
  }
 },
 "nbformat": 4,
 "nbformat_minor": 5
}
